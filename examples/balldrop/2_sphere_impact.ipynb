{
 "cells": [
  {
   "cell_type": "code",
   "execution_count": 4,
   "metadata": {},
   "outputs": [],
   "source": [
    "# import sys; sys.path"
   ]
  },
  {
   "cell_type": "code",
   "execution_count": 2,
   "metadata": {},
   "outputs": [
    {
     "ename": "ImportError",
     "evalue": "/home/retief/miniconda3/bin/../lib/libstdc++.so.6: version `GLIBCXX_3.4.29' not found (required by /home/retief/Nov3/Pyro2/python/pyroclastmpm/pyroclastmpm_pybind.cpython-39-x86_64-linux-gnu.so)",
     "output_type": "error",
     "traceback": [
      "\u001b[0;31m---------------------------------------------------------------------------\u001b[0m",
      "\u001b[0;31mImportError\u001b[0m                               Traceback (most recent call last)",
      "Cell \u001b[0;32mIn [2], line 1\u001b[0m\n\u001b[0;32m----> 1\u001b[0m \u001b[39mfrom\u001b[39;00m \u001b[39mpyroclastmpm\u001b[39;00m \u001b[39mimport\u001b[39;00m (\n\u001b[1;32m      2\u001b[0m     NoSlipWall,\n\u001b[1;32m      3\u001b[0m     LinearElastic,\n\u001b[1;32m      4\u001b[0m     NewtonFluid,\n\u001b[1;32m      5\u001b[0m     ParticlesContainer,\n\u001b[1;32m      6\u001b[0m     NodesContainer,\n\u001b[1;32m      7\u001b[0m     USL,\n\u001b[1;32m      8\u001b[0m     MUSL,\n\u001b[1;32m      9\u001b[0m     APIC,\n\u001b[1;32m     10\u001b[0m     LinearShapeFunction,\n\u001b[1;32m     11\u001b[0m     set_globals\n\u001b[1;32m     12\u001b[0m     \n\u001b[1;32m     13\u001b[0m )\n\u001b[1;32m     15\u001b[0m \u001b[39mimport\u001b[39;00m \u001b[39mnumpy\u001b[39;00m \u001b[39mas\u001b[39;00m \u001b[39mnp\u001b[39;00m\n\u001b[1;32m     16\u001b[0m \u001b[39mimport\u001b[39;00m \u001b[39mmatplotlib\u001b[39;00m\u001b[39m.\u001b[39;00m\u001b[39mpyplot\u001b[39;00m \u001b[39mas\u001b[39;00m \u001b[39mplt\u001b[39;00m\n",
      "File \u001b[0;32m~/Nov3/Pyro2/python/pyroclastmpm/__init__.py:4\u001b[0m\n\u001b[1;32m      1\u001b[0m \u001b[39m# from .GeometryGenerators import *\u001b[39;00m\n\u001b[1;32m      2\u001b[0m \n\u001b[1;32m      3\u001b[0m \u001b[39m# from .pyroclastmpm import ostream_redirect\u001b[39;00m\n\u001b[0;32m----> 4\u001b[0m \u001b[39mfrom\u001b[39;00m \u001b[39m.\u001b[39;00m\u001b[39mpyroclastmpm_pybind\u001b[39;00m \u001b[39mimport\u001b[39;00m (\n\u001b[1;32m      5\u001b[0m     LinearShapeFunction,\n\u001b[1;32m      6\u001b[0m     QuadraticShapeFunction,\n\u001b[1;32m      7\u001b[0m     CubicShapeFunction,\n\u001b[1;32m      8\u001b[0m )\n\u001b[1;32m     10\u001b[0m \u001b[39mfrom\u001b[39;00m \u001b[39m.\u001b[39;00m\u001b[39mglobal_settings\u001b[39;00m \u001b[39mimport\u001b[39;00m (\n\u001b[1;32m     11\u001b[0m     set_global_dimension,\n\u001b[1;32m     12\u001b[0m     set_global_shapefunction,\n\u001b[0;32m   (...)\u001b[0m\n\u001b[1;32m     15\u001b[0m     set_globals,\n\u001b[1;32m     16\u001b[0m )\n\u001b[1;32m     17\u001b[0m \u001b[39mfrom\u001b[39;00m \u001b[39m.\u001b[39;00m\u001b[39msolver\u001b[39;00m \u001b[39mimport\u001b[39;00m USL, MUSL, APIC\n",
      "\u001b[0;31mImportError\u001b[0m: /home/retief/miniconda3/bin/../lib/libstdc++.so.6: version `GLIBCXX_3.4.29' not found (required by /home/retief/Nov3/Pyro2/python/pyroclastmpm/pyroclastmpm_pybind.cpython-39-x86_64-linux-gnu.so)"
     ]
    }
   ],
   "source": [
    "from pyroclastmpm import (\n",
    "    NoSlipWall,\n",
    "    LinearElastic,\n",
    "    NewtonFluid,\n",
    "    ParticlesContainer,\n",
    "    NodesContainer,\n",
    "    USL,\n",
    "    MUSL,\n",
    "    APIC,\n",
    "    LinearShapeFunction,\n",
    "    set_globals\n",
    "    \n",
    ")\n",
    "\n",
    "import numpy as np\n",
    "import matplotlib.pyplot as plt\n",
    "\n"
   ]
  },
  {
   "cell_type": "code",
   "execution_count": 6,
   "metadata": {},
   "outputs": [
    {
     "ename": "NameError",
     "evalue": "name 'np' is not defined",
     "output_type": "error",
     "traceback": [
      "\u001b[0;31m---------------------------------------------------------------------------\u001b[0m",
      "\u001b[0;31mNameError\u001b[0m                                 Traceback (most recent call last)",
      "Cell \u001b[0;32mIn [6], line 1\u001b[0m\n\u001b[0;32m----> 1\u001b[0m \u001b[39mdef\u001b[39;00m \u001b[39mcreate_circle\u001b[39m(center: np\u001b[39m.\u001b[39marray,radius: \u001b[39mfloat\u001b[39m ,cell_size: \u001b[39mfloat\u001b[39m,ppc: \u001b[39mint\u001b[39m \u001b[39m=\u001b[39m\u001b[39m1\u001b[39m):\n\u001b[1;32m      2\u001b[0m     \u001b[39m\"\"\"Create a 2D circle\u001b[39;00m\n\u001b[1;32m      3\u001b[0m \n\u001b[1;32m      4\u001b[0m \u001b[39m    :param center: center of circle\u001b[39;00m\n\u001b[0;32m   (...)\u001b[0m\n\u001b[1;32m      7\u001b[0m \u001b[39m    :param ppc: particles per cell, defaults to 1\u001b[39;00m\n\u001b[1;32m      8\u001b[0m \u001b[39m    \"\"\"\u001b[39;00m\n\u001b[1;32m      9\u001b[0m     start \u001b[39m=\u001b[39m center\u001b[39m-\u001b[39mradius\n",
      "\u001b[0;31mNameError\u001b[0m: name 'np' is not defined"
     ]
    }
   ],
   "source": [
    "def create_circle(center: np.array,radius: float ,cell_size: float,ppc: int =1):\n",
    "    \"\"\"Create a 2D circle\n",
    "\n",
    "    :param center: center of circle\n",
    "    :param radius: radius of circle\n",
    "    :param cell_size: cell size of background grid\n",
    "    :param ppc: particles per cell, defaults to 1\n",
    "    \"\"\"\n",
    "    start = center-radius\n",
    "    end = center+radius\n",
    "    spacing = cell_size/ppc\n",
    "    tol =  +0.002 # prevents points\n",
    "    \n",
    "    x = np.arange(start[0], end[0] + spacing, spacing)\n",
    "    y = np.arange(start[1], end[1] + spacing, spacing)\n",
    "    z = np.zeros(len(x))\n",
    "    xv, yv, zv = np.meshgrid(x, y, z)\n",
    "    grid_coords = np.array(list(zip(xv.flatten(), yv.flatten(), zv.flatten()))).astype(np.float64)\n",
    "\n",
    "    circle_mask = (grid_coords[:, 0] - center[0]) ** 2 + (\n",
    "        grid_coords[:, 1] - center[1]\n",
    "    ) ** 2 < radius**2 + tol\n",
    "    \n",
    "    return grid_coords[circle_mask]"
   ]
  },
  {
   "cell_type": "code",
   "execution_count": null,
   "metadata": {},
   "outputs": [],
   "source": [
    "domain_start = np.array([0.,0.,0.])\n",
    "domain_end = np.array([1.,1.,1.])\n",
    "cell_size = 1/20\n",
    "ppc = 4\n",
    "\n",
    "rho0 = 1000\n",
    "\n",
    "# Define global simulation parameters\n",
    "set_globals(\n",
    "    dimension=2,\n",
    "    dt=0.001,\n",
    "    shape_function=LinearShapeFunction,\n",
    "    output_directory=\"./output\",\n",
    ")\n"
   ]
  },
  {
   "cell_type": "code",
   "execution_count": null,
   "metadata": {},
   "outputs": [],
   "source": [
    "# setup grid\n",
    "\n",
    "nodes = NodesContainer(node_start=domain_start, node_end=domain_end, node_spacing=cell_size)\n",
    "\n",
    "print(f\"Total number of cells: {nodes.num_nodes_total}\")\n"
   ]
  },
  {
   "cell_type": "code",
   "execution_count": null,
   "metadata": {},
   "outputs": [],
   "source": [
    "# setup particles\n",
    "\n",
    "circle1 = create_circle(\n",
    "    center= np.array([0.3,0.3,0.]),\n",
    "    radius= 0.15,\n",
    "    cell_size = cell_size,\n",
    "    ppc=ppc)\n",
    "\n",
    "circle2 = create_circle(\n",
    "    center= np.array([0.7,0.7,0.]),\n",
    "    radius= 0.15,\n",
    "    cell_size = cell_size,\n",
    "    ppc=ppc)\n",
    "\n",
    "\n",
    "plt.scatter(circle1[:,0],circle1[:,1])\n",
    "plt.scatter(circle2[:,0],circle2[:,1])\n",
    "\n",
    "plt.xlim((0,1))\n",
    "plt.ylim((0,1))\n",
    "\n",
    "positions = np.vstack((circle1, circle2))\n",
    "\n",
    "velocities1 = np.ones(circle1.shape) * 0.1\n",
    "velocities2 = np.ones(circle2.shape) * -0.1\n",
    "velocities = np.vstack((velocities1, velocities2))\n",
    "velocities[:, 2] = 0.0 \n",
    "\n",
    "color1 = np.zeros(len(circle1))\n",
    "color2 = np.ones(len(circle2))\n",
    "colors = np.concatenate([color1, color2]).astype(int)\n",
    "\n",
    "\n",
    "masses = np.ones(len(positions))*rho0*cell_size*cell_size\n",
    "volumes = np.ones(len(positions))*cell_size*cell_size\n",
    "\n",
    "particles= ParticlesContainer(\n",
    "    positions=positions,\n",
    "    masses=masses,\n",
    "    volumes=volumes,\n",
    "    velocities=velocities,\n",
    "    colors=colors)\n",
    "\n",
    "\n",
    "material = LinearElastic(E=1000, pois=0.3)\n",
    "\n",
    "particles.materials = [material, material]  # two color\n",
    "\n",
    "print(f\"Total number of particles {particles.num_particles}\")"
   ]
  },
  {
   "cell_type": "code",
   "execution_count": null,
   "metadata": {},
   "outputs": [],
   "source": [
    "MPM = USL(\n",
    "    total_steps=2600,  # 3 seconds\n",
    "    output_steps=400,\n",
    "    output_start=0,\n",
    "    particles=particles,\n",
    "    nodes=nodes,\n",
    ")\n",
    "MPM.run()\n"
   ]
  },
  {
   "cell_type": "code",
   "execution_count": null,
   "metadata": {},
   "outputs": [],
   "source": [
    "import glob\n",
    "import pandas as pd\n",
    "import numpy as np\n",
    "all_files = glob.glob('output/particles*.csv')\n",
    "\n",
    "df_particles_list = []\n",
    "\n",
    "for i,file in enumerate(all_files):\n",
    "    time = i*200*0.001\n",
    "    df = pd.read_csv(file)\n",
    "    df['time'] = time\n",
    "    df_particles_list.append(df)"
   ]
  },
  {
   "cell_type": "code",
   "execution_count": null,
   "metadata": {},
   "outputs": [],
   "source": [
    "\n",
    "\n",
    "df_full = pd.concat(df_particles_list)\n",
    "\n",
    "vels = df_full[['Velocity:0','Velocity:1','Velocity:2']].values\n",
    "masses = df_full['Mass'].values\n",
    "\n",
    "df_full['KE'] = 0.5 * np.einsum(\"ij,ij->i\", vels, vels) * masses \n",
    "\n",
    "grper = df_full.groupby([\"time\"]).sum().reset_index()\n",
    "\n",
    "grper.plot(x=\"time\",y=\"KE\")"
   ]
  },
  {
   "cell_type": "code",
   "execution_count": null,
   "metadata": {},
   "outputs": [],
   "source": []
  }
 ],
 "metadata": {
  "kernelspec": {
   "display_name": "Python 3.9.12 ('pyroclastmpm-P-hcJ2Y2-py3.9')",
   "language": "python",
   "name": "python3"
  },
  "language_info": {
   "codemirror_mode": {
    "name": "ipython",
    "version": 3
   },
   "file_extension": ".py",
   "mimetype": "text/x-python",
   "name": "python",
   "nbconvert_exporter": "python",
   "pygments_lexer": "ipython3",
   "version": "3.9.12"
  },
  "orig_nbformat": 4,
  "vscode": {
   "interpreter": {
    "hash": "5de8b40e16d4816180967a384d8cbd98f1e80da67af0287e744b892a30d90903"
   }
  }
 },
 "nbformat": 4,
 "nbformat_minor": 2
}
