{
 "cells": [
  {
   "cell_type": "code",
   "execution_count": 1,
   "metadata": {},
   "outputs": [],
   "source": [
    "from pyroclastmpm import (\n",
    "    NoSlipWall,\n",
    "    SlipWall,\n",
    "    Gravity,\n",
    "    NewtonFluid,\n",
    "    ParticlesContainer,\n",
    "    NodesContainer,\n",
    "    USL,\n",
    "    MUSL,\n",
    "    CubicShapeFunction,\n",
    "    set_globals\n",
    "    \n",
    ")\n",
    "\n",
    "import numpy as np\n",
    "import matplotlib.pyplot as plt\n",
    "\n"
   ]
  },
  {
   "cell_type": "code",
   "execution_count": 2,
   "metadata": {},
   "outputs": [],
   "source": [
    "# Define simulation parameters\n",
    "\n",
    "L = 1.2 #m\n",
    "H = 1.4\n",
    "cs = 1./40\n",
    "\n",
    "rho0 = 1800\n",
    "K =  0.36*1000\n",
    "G = 0.01\n",
    "\n",
    "c = np.sqrt(K/rho0)\n",
    "\n",
    "ppc = 2\n",
    "\n",
    "# Define simulation parameters\n",
    "set_globals(\n",
    "    dimension=3,\n",
    "    dt=5e-5,\n",
    "    shape_function=CubicShapeFunction,\n",
    "    output_directory=\"./output\",\n",
    ")\n"
   ]
  },
  {
   "cell_type": "code",
   "execution_count": 3,
   "metadata": {},
   "outputs": [
    {
     "name": "stderr",
     "output_type": "stream",
     "text": [
      "/home/retief/.cache/pypoetry/virtualenvs/pyroclastmpm-P1c3hYaX-py3.10/lib/python3.10/site-packages/pyvista/jupyter/notebook.py:60: UserWarning: Failed to use notebook backend: \n",
      "\n",
      "Please install `ipyvtklink` to use this feature: https://github.com/Kitware/ipyvtklink\n",
      "\n",
      "Falling back to a static output.\n",
      "  warnings.warn(\n"
     ]
    },
    {
     "data": {
      "image/png": "[encoded data removed]",
      "text/plain": [
       "<PIL.Image.Image image mode=RGB size=1024x768>"
      ]
     },
     "metadata": {},
     "output_type": "display_data"
    },
    {
     "name": "stdout",
     "output_type": "stream",
     "text": [
      "0.203596 1.206091\n"
     ]
    }
   ],
   "source": [
    "\n",
    "import pyvista as pv\n",
    "\n",
    "mesh = pv.read(\"blender/CEM.obj\")\n",
    "cpos = mesh.plot()\n",
    "points = np.array(mesh.points)\n",
    "print(points.min(),points.max())"
   ]
  },
  {
   "cell_type": "code",
   "execution_count": null,
   "metadata": {},
   "outputs": [],
   "source": []
  },
  {
   "cell_type": "code",
   "execution_count": 4,
   "metadata": {},
   "outputs": [
    {
     "name": "stdout",
     "output_type": "stream",
     "text": [
      "num_p 136122, num_c 164944 \n",
      "\n"
     ]
    }
   ],
   "source": [
    "nodes = NodesContainer(\n",
    "    node_start=np.array([0.0, 0.0, 0.0]),\n",
    "    node_end=np.array([L + 4 * cs, H + 4 * cs, L + 4 * cs]),\n",
    "    node_spacing=cs,\n",
    ")\n",
    "\n",
    "\n",
    "# node_coords = nodes.give_coords()\n",
    "\n",
    "\n",
    "# wspread = np.arange(0, 0.6 + cs,cs/ppc) + 6.5*(cs)\n",
    "# hspread = np.arange(0, 0.6 + cs, cs/ppc) +  4.5*(cs)\n",
    "# lspread = np.arange(0, 0.6 + cs, cs/ppc) +  6.5*(cs)\n",
    "# xv, yv, zv = np.meshgrid(wspread, hspread,lspread)\n",
    "\n",
    "# particle_coords = np.array(list(zip(xv.flatten(), yv.flatten(),zv.flatten()))).astype(np.float64)\n",
    "particle_coords = points\n",
    "print(f\"num_p {len(particle_coords)}, num_c {nodes.num_nodes_total} \\n\")\n"
   ]
  },
  {
   "cell_type": "code",
   "execution_count": 5,
   "metadata": {},
   "outputs": [],
   "source": [
    "vels = np.zeros(particle_coords.shape)\n",
    "\n",
    "mass = np.ones(len(particle_coords))*rho0*cs*cs\n",
    "\n",
    "volume = np.ones(len(particle_coords))*cs\n",
    "\n",
    "particles = ParticlesContainer(\n",
    "    positions=particle_coords,\n",
    "    masses=mass,\n",
    "    volumes=volume,\n",
    "    velocities=vels\n",
    ")\n",
    "\n",
    "\n",
    "material = NewtonFluid(viscocity=G,bulk_modulus=K,gamma=7)\n",
    "\n",
    "particles.materials = [material]\n",
    "\n",
    "wally0 = NoSlipWall(wallplane=\"y0\")\n",
    "wally1 = NoSlipWall(wallplane=\"y1\")\n",
    "\n",
    "wallx0 = SlipWall(wallplane=\"x0\")\n",
    "wallx1 = SlipWall(wallplane=\"x1\")\n",
    "\n",
    "wallz0 = SlipWall(wallplane=\"z0\")\n",
    "wallz1 = SlipWall(wallplane=\"z1\")\n",
    "\n",
    "\n",
    "wallgrav = Gravity(gravity=np.array([0,-40.81,0]))\n",
    "\n",
    "\n",
    "MPM = USL(\n",
    "    particles=particles,\n",
    "    nodes=nodes,\n",
    "    total_steps=50000,\n",
    "    output_steps=500,\n",
    "    output_start=0,\n",
    "    boundaryconditions=[wally0,wally1, wallx0, wallx1, wallz0,wallz1,wallgrav],\n",
    ")"
   ]
  },
  {
   "cell_type": "code",
   "execution_count": 6,
   "metadata": {},
   "outputs": [],
   "source": [
    "\n",
    "MPM.run()\n"
   ]
  },
  {
   "cell_type": "code",
   "execution_count": null,
   "metadata": {},
   "outputs": [],
   "source": []
  }
 ],
 "metadata": {
  "kernelspec": {
   "display_name": "Python 3.9.12 ('pyroclastmpm-P-hcJ2Y2-py3.9')",
   "language": "python",
   "name": "python3"
  },
  "language_info": {
   "codemirror_mode": {
    "name": "ipython",
    "version": 3
   },
   "file_extension": ".py",
   "mimetype": "text/x-python",
   "name": "python",
   "nbconvert_exporter": "python",
   "pygments_lexer": "ipython3",
   "version": "3.9.12"
  },
  "orig_nbformat": 4,
  "vscode": {
   "interpreter": {
    "hash": "5de8b40e16d4816180967a384d8cbd98f1e80da67af0287e744b892a30d90903"
   }
  }
 },
 "nbformat": 4,
 "nbformat_minor": 2
}
