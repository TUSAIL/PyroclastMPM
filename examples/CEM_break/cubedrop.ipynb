{
 "cells": [
  {
   "cell_type": "code",
   "execution_count": null,
   "metadata": {},
   "outputs": [],
   "source": [
    "from pyroclastmpm import (\n",
    "    NoSlipWall,\n",
    "    SlipWall,\n",
    "    Gravity,\n",
    "    NewtonFluid,\n",
    "    ParticlesContainer,\n",
    "    NodesContainer,\n",
    "    USL,\n",
    "    MUSL,\n",
    "    APIC,\n",
    "    CubicShapeFunction,\n",
    "    set_globals,\n",
    ")\n",
    "\n",
    "import numpy as np\n",
    "import matplotlib.pyplot as plt"
   ]
  },
  {
   "cell_type": "code",
   "execution_count": null,
   "metadata": {},
   "outputs": [],
   "source": [
    "# Define simulation parameters\n",
    "\n",
    "L = 1.2  # m\n",
    "H = 0.8\n",
    "cs = 1.0 / 40\n",
    "\n",
    "rho0 = 1800\n",
    "K = 0.36 * 1000\n",
    "G = 0.01\n",
    "\n",
    "c = np.sqrt(K / rho0)\n",
    "\n",
    "ppc = 2\n",
    "\n",
    "# Define simulation parameters\n",
    "set_globals(\n",
    "    dimension=3,\n",
    "    dt=5e-5,\n",
    "    shape_function=CubicShapeFunction,\n",
    "    output_directory=\"./output\",\n",
    ")"
   ]
  },
  {
   "cell_type": "code",
   "execution_count": null,
   "metadata": {},
   "outputs": [],
   "source": [
    "nodes = NodesContainer(\n",
    "    node_start=np.array([0.0, 0.0, 0.0]),\n",
    "    node_end=np.array([L + 4 * cs, H + 4 * cs, L + 4 * cs]),\n",
    "    node_spacing=cs,\n",
    ")\n",
    "\n",
    "\n",
    "node_coords = nodes.give_coords()\n",
    "\n",
    "\n",
    "wspread = np.arange(0, 0.6 + cs, cs / ppc) + 6.5 * (cs)\n",
    "hspread = np.arange(0, 0.6 + cs, cs / ppc) + 4.5 * (cs)\n",
    "lspread = np.arange(0, 0.6 + cs, cs / ppc) + 6.5 * (cs)\n",
    "xv, yv, zv = np.meshgrid(wspread, hspread, lspread)\n",
    "\n",
    "particle_coords = np.array(\n",
    "    list(zip(xv.flatten(), yv.flatten(), zv.flatten()))\n",
    ").astype(np.float64)\n",
    "print(f\"num_p {len(particle_coords)}, num_c {nodes.num_nodes_total} \\n\")"
   ]
  },
  {
   "cell_type": "code",
   "execution_count": null,
   "metadata": {},
   "outputs": [],
   "source": [
    "vels = np.zeros(particle_coords.shape)\n",
    "\n",
    "mass = np.ones(len(particle_coords)) * rho0 * cs * cs\n",
    "\n",
    "volume = np.ones(len(particle_coords)) * cs\n",
    "\n",
    "particles = ParticlesContainer(\n",
    "    positions=particle_coords, masses=mass, volumes=volume, velocities=vels\n",
    ")\n",
    "\n",
    "\n",
    "material = NewtonFluid(viscocity=G, bulk_modulus=K, gamma=7)\n",
    "\n",
    "particles.materials = [material]\n",
    "\n",
    "wally0 = NoSlipWall(wallplane=\"y0\")\n",
    "wally1 = NoSlipWall(wallplane=\"y1\")\n",
    "\n",
    "wallx0 = SlipWall(wallplane=\"x0\")\n",
    "wallx1 = SlipWall(wallplane=\"x1\")\n",
    "\n",
    "wallz0 = SlipWall(wallplane=\"z0\")\n",
    "wallz1 = SlipWall(wallplane=\"z1\")\n",
    "\n",
    "\n",
    "wallgrav = Gravity(gravity=np.array([0, -40.81, 0]))\n",
    "\n",
    "\n",
    "MPM = APIC(\n",
    "    particles=particles,\n",
    "    nodes=nodes,\n",
    "    total_steps=50000,\n",
    "    output_steps=500,\n",
    "    output_start=0,\n",
    "    boundaryconditions=[\n",
    "        wally0,\n",
    "        wally1,\n",
    "        wallx0,\n",
    "        wallx1,\n",
    "        wallz0,\n",
    "        wallz1,\n",
    "        wallgrav,\n",
    "    ],\n",
    ")"
   ]
  },
  {
   "cell_type": "code",
   "execution_count": null,
   "metadata": {},
   "outputs": [],
   "source": [
    "MPM.run()"
   ]
  },
  {
   "cell_type": "code",
   "execution_count": null,
   "metadata": {},
   "outputs": [],
   "source": []
  }
 ],
 "metadata": {
  "kernelspec": {
   "display_name": "Python 3.10.6 ('pyroclastmpm-P1c3hYaX-py3.10')",
   "language": "python",
   "name": "python3"
  },
  "language_info": {
   "codemirror_mode": {
    "name": "ipython",
    "version": 3
   },
   "file_extension": ".py",
   "mimetype": "text/x-python",
   "name": "python",
   "nbconvert_exporter": "python",
   "pygments_lexer": "ipython3",
   "version": "3.10.6"
  },
  "orig_nbformat": 4,
  "vscode": {
   "interpreter": {
    "hash": "c50e36cbabb58db5cfaa89ae77e35eeb876b882b974c23a24ad27b30d6aaceab"
   }
  }
 },
 "nbformat": 4,
 "nbformat_minor": 2
}
