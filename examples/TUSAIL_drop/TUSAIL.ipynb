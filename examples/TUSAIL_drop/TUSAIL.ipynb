{
 "cells": [
  {
   "cell_type": "code",
   "execution_count": 1,
   "metadata": {},
   "outputs": [],
   "source": [
    "from pyroclastmpm import (\n",
    "    NoSlipWall,\n",
    "    SlipWall,\n",
    "    Gravity,\n",
    "    NewtonFluid,\n",
    "    ParticlesContainer,\n",
    "    NodesContainer,\n",
    "    USL,\n",
    "    MUSL,\n",
    "    LocalGranularRheology,\n",
    "    CubicShapeFunction,\n",
    "    set_globals\n",
    "    \n",
    ")\n",
    "\n",
    "import numpy as np\n",
    "import matplotlib.pyplot as plt\n",
    "\n"
   ]
  },
  {
   "cell_type": "code",
   "execution_count": 2,
   "metadata": {},
   "outputs": [],
   "source": [
    "\n",
    "\n",
    "# Material parameters\n",
    "E = 1e9\n",
    "pois = 0.3\n",
    "I0 = 0.279\n",
    "mu_s = 0.5819\n",
    "mu_2 = 0.6435\n",
    "\n",
    "particle_diameter = 0.001\n",
    "particle_density = 2450  # solid density\n",
    "rho_c = 1500\n",
    "rho0 = rho_c\n",
    "\n",
    "ppc=2\n",
    "\n",
    "# Define simulation parameters\n",
    "\n",
    "domain_start = np.array([0,0,0])\n",
    "domain_end = np.array([1.0, 3.0, 1.4])\n",
    "cell_size = 0.06\n",
    "\n",
    "dt = 3e-6\n",
    "\n",
    "# Define simulation parameters\n",
    "set_globals(\n",
    "    dimension=3,\n",
    "    dt=dt,\n",
    "    shape_function=CubicShapeFunction,\n",
    "    output_directory=\"./output\",\n",
    ")\n",
    "gravity = 9.8"
   ]
  },
  {
   "cell_type": "code",
   "execution_count": 3,
   "metadata": {},
   "outputs": [
    {
     "name": "stderr",
     "output_type": "stream",
     "text": [
      "/home/retief/.cache/pypoetry/virtualenvs/pyroclastmpm-EBADWfgD-py3.10/lib/python3.10/site-packages/pyvista/jupyter/notebook.py:60: UserWarning: Failed to use notebook backend: \n",
      "\n",
      "Please install `ipyvtklink` to use this feature: https://github.com/Kitware/ipyvtklink\n",
      "\n",
      "Falling back to a static output.\n",
      "  warnings.warn(\n"
     ]
    },
    {
     "data": {
      "image/png": "[encoded data removed]",
      "text/plain": [
       "<PIL.Image.Image image mode=RGB size=1024x768>"
      ]
     },
     "metadata": {},
     "output_type": "display_data"
    },
    {
     "data": {
      "text/plain": [
       "(array([0.25375099, 0.33965397, 0.60685802]),\n",
       " array([0.78269899, 3.466808  , 1.29685795]))"
      ]
     },
     "execution_count": 3,
     "metadata": {},
     "output_type": "execute_result"
    }
   ],
   "source": [
    "\n",
    "import pyvista as pv\n",
    "\n",
    "mesh = pv.read(\"TUSAIL2.obj\")\n",
    "cpos = mesh.plot()\n",
    "points = np.array(mesh.points) + np.array([0.5,3.5,0.0])\n",
    "np.min(points,axis=0), np.max(points,axis=0)"
   ]
  },
  {
   "cell_type": "code",
   "execution_count": 4,
   "metadata": {},
   "outputs": [],
   "source": [
    "cs = 0.03"
   ]
  },
  {
   "cell_type": "code",
   "execution_count": 5,
   "metadata": {},
   "outputs": [
    {
     "name": "stdout",
     "output_type": "stream",
     "text": [
      "num_p 15691, num_c 20808 \n",
      "\n"
     ]
    }
   ],
   "source": [
    "nodes = NodesContainer(\n",
    "    node_start=domain_start,\n",
    "    node_end=domain_end,\n",
    "    node_spacing=cell_size,\n",
    ")\n",
    "\n",
    "\n",
    "\n",
    "particle_coords = points\n",
    "print(f\"num_p {len(particle_coords)}, num_c {nodes.num_nodes_total} \\n\")\n"
   ]
  },
  {
   "cell_type": "code",
   "execution_count": 6,
   "metadata": {},
   "outputs": [
    {
     "name": "stdout",
     "output_type": "stream",
     "text": [
      "E 1000000000.000000, pois 0.300000, shear 384615392.000000, lame 576923136.000000, I0 0.279000, mu_s 0.581900 EPS 1.123300 \n"
     ]
    }
   ],
   "source": [
    "vels = np.zeros(particle_coords.shape)\n",
    "\n",
    "mass = np.ones(len(particle_coords))*rho0*cs*cs*cs*(1./ppc)\n",
    "\n",
    "volume = np.ones(len(particle_coords))*cs*cs*cs*(1./ppc)\n",
    "\n",
    "particles = ParticlesContainer(\n",
    "    positions=particle_coords,\n",
    "    masses=mass,\n",
    "    volumes=volume,\n",
    "    velocities=vels\n",
    ")\n",
    "\n",
    "\n",
    "material = LocalGranularRheology(\n",
    "    E=E,\n",
    "    pois=pois,\n",
    "    I0=I0,\n",
    "    mu_s=mu_s,\n",
    "    mu_2=mu_2,\n",
    "    rho_c=rho_c,\n",
    "    particle_diameter=particle_diameter,\n",
    "    particle_density=particle_density,\n",
    ")\n",
    "\n",
    "particles.materials = [material]\n",
    "\n",
    "wally0 = SlipWall(wallplane=\"y0\")\n",
    "wally1 = SlipWall(wallplane=\"y1\")\n",
    "\n",
    "wallx0 = SlipWall(wallplane=\"x0\")\n",
    "wallx1 = SlipWall(wallplane=\"x1\")\n",
    "\n",
    "wallz0 = SlipWall(wallplane=\"z0\")\n",
    "wallz1 = SlipWall(wallplane=\"z1\")\n",
    "\n",
    "\n",
    "wallgrav = Gravity(gravity=np.array([0,-40.81,0]))\n",
    "\n",
    "\n",
    "MPM = USL(\n",
    "    particles=particles,\n",
    "    nodes=nodes,\n",
    "    total_steps=50000,\n",
    "    output_steps=5000,\n",
    "    output_start=0,\n",
    "    boundaryconditions=[wally0,wally1, wallx0, wallx1, wallz0,wallz1,wallgrav],\n",
    ")"
   ]
  },
  {
   "cell_type": "code",
   "execution_count": 7,
   "metadata": {},
   "outputs": [
    {
     "name": "stdout",
     "output_type": "stream",
     "text": [
      "output: 5000\n",
      "output: 10000\n",
      "output: 15000\n",
      "output: 20000\n",
      "output: 25000\n",
      "output: 30000\n",
      "output: 35000\n",
      "output: 40000\n",
      "output: 45000\n",
      "output: 50000\n"
     ]
    }
   ],
   "source": [
    "\n",
    "MPM.run()\n"
   ]
  },
  {
   "cell_type": "code",
   "execution_count": null,
   "metadata": {},
   "outputs": [],
   "source": []
  }
 ],
 "metadata": {
  "kernelspec": {
   "display_name": "Python 3.10.6 ('pyroclastmpm-EBADWfgD-py3.10')",
   "language": "python",
   "name": "python3"
  },
  "language_info": {
   "codemirror_mode": {
    "name": "ipython",
    "version": 3
   },
   "file_extension": ".py",
   "mimetype": "text/x-python",
   "name": "python",
   "nbconvert_exporter": "python",
   "pygments_lexer": "ipython3",
   "version": "3.10.6"
  },
  "orig_nbformat": 4,
  "vscode": {
   "interpreter": {
    "hash": "3171bf6fdd605bfed0e6ef407203d1cc99cd9dc31a3d275ed13480bd12cee9a4"
   }
  }
 },
 "nbformat": 4,
 "nbformat_minor": 2
}
